{
 "cells": [
  {
   "cell_type": "code",
   "execution_count": 1,
   "metadata": {
    "papermill": {
     "duration": 0.036411,
     "end_time": "2020-03-18T06:23:13.088924",
     "exception": false,
     "start_time": "2020-03-18T06:23:13.052513",
     "status": "completed"
    },
    "tags": [
     "parameters"
    ]
   },
   "outputs": [],
   "source": [
    "\n",
    "filterA = 5\n",
    "filterB = 5\n",
    "sVSp = 0.08\n",
    "amount = 0.002\n",
    "bucketName = 'noisy-images'\n",
    "inputFile = 'out/argo-logo.png'\n",
    "outputFile = 'out/blur-argo-logo.png'\n"
   ]
  },
  {
   "cell_type": "code",
   "execution_count": 2,
   "metadata": {
    "papermill": {
     "duration": 0.011762,
     "end_time": "2020-03-18T06:23:13.109796",
     "exception": false,
     "start_time": "2020-03-18T06:23:13.098034",
     "status": "completed"
    },
    "tags": [
     "injected-parameters"
    ]
   },
   "outputs": [],
   "source": [
    "# Parameters\n",
    "bucketName = \"production\"\n"
   ]
  },
  {
   "cell_type": "code",
   "execution_count": 3,
   "metadata": {
    "papermill": {
     "duration": 0.958567,
     "end_time": "2020-03-18T06:23:14.071373",
     "exception": false,
     "start_time": "2020-03-18T06:23:13.112806",
     "status": "completed"
    },
    "tags": []
   },
   "outputs": [
    {
     "name": "stdout",
     "output_type": "stream",
     "text": [
      "blur-argo-logo.png\n"
     ]
    },
    {
     "name": "stderr",
     "output_type": "stream",
     "text": [
      "/home/vaibhav/.local/lib/python3.6/site-packages/ipykernel_launcher.py:26: FutureWarning: Using a non-tuple sequence for multidimensional indexing is deprecated; use `arr[tuple(seq)]` instead of `arr[seq]`. In the future this will be interpreted as an array index, `arr[np.array(seq)]`, which will result either in an error or a different result.\n",
      "/home/vaibhav/.local/lib/python3.6/site-packages/ipykernel_launcher.py:32: FutureWarning: Using a non-tuple sequence for multidimensional indexing is deprecated; use `arr[tuple(seq)]` instead of `arr[seq]`. In the future this will be interpreted as an array index, `arr[np.array(seq)]`, which will result either in an error or a different result.\n"
     ]
    }
   ],
   "source": [
    "import cv2\n",
    "import numpy\n",
    "from minio import Minio\n",
    "from minio.error import ResponseError\n",
    "import random\n",
    "import string \n",
    "\n",
    "\n",
    "minioClient = Minio('localhost:9000',\n",
    "                  access_key='minio',\n",
    "                  secret_key='minio123',\n",
    "                  secure=False)\n",
    "\n",
    "random.seed(5)\n",
    "N = 7\n",
    "\n",
    "src = cv2.imread(inputFile)\n",
    " \n",
    "src = cv2.GaussianBlur(src,(filterA,filterB),cv2.BORDER_DEFAULT)\n",
    "\n",
    "out = numpy.copy(src)\n",
    "# Salt mode\n",
    "num_salt = numpy.ceil(amount * src.size * sVSp)\n",
    "coords = [numpy.random.randint(0, i - 1, int(num_salt))\n",
    "      for i in src.shape]\n",
    "out[coords] = 1\n",
    "\n",
    "# Pepper mode\n",
    "num_pepper = numpy.ceil(amount* src.size * (1. - sVSp))\n",
    "coords = [numpy.random.randint(0, i - 1, int(num_pepper))\n",
    "      for i in src.shape]\n",
    "out[coords] = 0\n",
    "\n",
    "dst = out\n",
    "\n",
    "cv2.imwrite(outputFile, dst)\n",
    "\n",
    "image_name = 'blur-argo-logo.png'\n",
    "print(image_name)\n",
    "\n",
    "try:\n",
    "       minioClient.fput_object(bucketName, image_name, outputFile)\n",
    "except ResponseError as err:\n",
    "       print(err)"
   ]
  },
  {
   "cell_type": "code",
   "execution_count": null,
   "metadata": {
    "papermill": {
     "duration": 0.003554,
     "end_time": "2020-03-18T06:23:14.078640",
     "exception": false,
     "start_time": "2020-03-18T06:23:14.075086",
     "status": "completed"
    },
    "tags": []
   },
   "outputs": [],
   "source": []
  }
 ],
 "metadata": {
  "celltoolbar": "Tags",
  "kernelspec": {
   "display_name": "Python 3",
   "language": "python",
   "name": "python3"
  },
  "language_info": {
   "codemirror_mode": {
    "name": "ipython",
    "version": 3
   },
   "file_extension": ".py",
   "mimetype": "text/x-python",
   "name": "python",
   "nbconvert_exporter": "python",
   "pygments_lexer": "ipython3",
   "version": "3.6.9"
  },
  "papermill": {
   "duration": 2.608916,
   "end_time": "2020-03-18T06:23:14.089779",
   "environment_variables": {},
   "exception": null,
   "input_path": "noisy.ipynb",
   "output_path": "out/out.ipynb",
   "parameters": {
    "bucketName": "production"
   },
   "start_time": "2020-03-18T06:23:11.480863",
   "version": "2.0.0"
  }
 },
 "nbformat": 4,
 "nbformat_minor": 4
}