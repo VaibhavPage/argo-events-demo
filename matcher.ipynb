{
 "cells": [
  {
   "cell_type": "code",
   "execution_count": 10,
   "metadata": {
    "tags": [
     "parameters"
    ]
   },
   "outputs": [],
   "source": [
    "bucketName = 'noisy-images'\n",
    "imageName = 'blur-argo-logo-W02707B.png'"
   ]
  },
  {
   "cell_type": "code",
   "execution_count": 11,
   "metadata": {},
   "outputs": [],
   "source": [
    "from skimage import measure\n",
    "import matplotlib.pyplot as plt\n",
    "import numpy as np\n",
    "import cv2\n",
    "\n",
    "from minio import Minio\n",
    "from minio.error import ResponseError\n",
    "\n",
    "bucketName = 'noisy-images'\n",
    "\n",
    "minioClient = Minio('minio-service.argo-events.svc:9000',\n",
    "                  access_key='minio',\n",
    "                  secret_key='minio123',\n",
    "                  secure=False)"
   ]
  },
  {
   "cell_type": "code",
   "execution_count": 12,
   "metadata": {},
   "outputs": [],
   "source": [
    "def mse(imageA, imageB):\n",
    "    err = np.sum((imageA.astype(\"float\") - imageB.astype(\"float\")) ** 2)\n",
    "    err /= float(imageA.shape[0] * imageA.shape[1])\n",
    "    return err\n",
    "\n",
    "def compare_images(imageA, imageB, title):\n",
    "    s =  measure.compare_ssim(imageA, imageB)\n",
    "    return s"
   ]
  },
  {
   "cell_type": "code",
   "execution_count": 13,
   "metadata": {},
   "outputs": [
    {
     "name": "stdout",
     "output_type": "stream",
     "text": [
      "<Object: bucket_name: noisy-images object_name: b'blur-argo-logo-W02707B.png' last_modified: time.struct_time(tm_year=2020, tm_mon=3, tm_mday=18, tm_hour=1, tm_min=41, tm_sec=20, tm_wday=2, tm_yday=78, tm_isdst=0) etag: 6df3a63ddda821d008c74ad747d402d6-1 size: 158928 content_type: application/octet-stream, is_dir: False, metadata: {'Content-Type': 'application/octet-stream'}>\n"
     ]
    }
   ],
   "source": [
    "# Fetch from minio the noisy\n",
    "# Get a full object and prints the original object stat information.\n",
    "try:\n",
    "    print(minioClient.fget_object(bucketName, imageName, 'out1/blur-argo-logo.png'))\n",
    "except ResponseError as err:\n",
    "    print(err)"
   ]
  },
  {
   "cell_type": "code",
   "execution_count": 14,
   "metadata": {},
   "outputs": [],
   "source": [
    "original = cv2.imread(\"out1/argo-logo.png\")\n",
    "noisy = cv2.imread(\"out1/blur-argo-logo.png\")"
   ]
  },
  {
   "cell_type": "code",
   "execution_count": 15,
   "metadata": {},
   "outputs": [],
   "source": [
    "original = cv2.cvtColor(original, cv2.COLOR_BGR2GRAY)\n",
    "noisy = cv2.cvtColor(noisy, cv2.COLOR_BGR2GRAY)"
   ]
  },
  {
   "cell_type": "code",
   "execution_count": 17,
   "metadata": {},
   "outputs": [
    {
     "name": "stdout",
     "output_type": "stream",
     "text": [
      "Structural Similarity Measure is:  0.4400174294278301\n"
     ]
    },
    {
     "name": "stderr",
     "output_type": "stream",
     "text": [
      "/home/vaibhav/.local/lib/python3.6/site-packages/ipykernel_launcher.py:7: UserWarning: DEPRECATED: skimage.measure.compare_ssim has been moved to skimage.metrics.structural_similarity. It will be removed from skimage.measure in version 0.18.\n",
      "  import sys\n"
     ]
    }
   ],
   "source": [
    "output = compare_images(original, noisy, \"Original vs. Noisy\")\n",
    "print('Structural Similarity Measure is: ', output)"
   ]
  },
  {
   "cell_type": "code",
   "execution_count": null,
   "metadata": {},
   "outputs": [],
   "source": []
  }
 ],
 "metadata": {
  "celltoolbar": "Tags",
  "kernelspec": {
   "display_name": "Python 3",
   "language": "python",
   "name": "python3"
  },
  "language_info": {
   "codemirror_mode": {
    "name": "ipython",
    "version": 3
   },
   "file_extension": ".py",
   "mimetype": "text/x-python",
   "name": "python",
   "nbconvert_exporter": "python",
   "pygments_lexer": "ipython3",
   "version": "3.6.9"
  }
 },
 "nbformat": 4,
 "nbformat_minor": 2
}
