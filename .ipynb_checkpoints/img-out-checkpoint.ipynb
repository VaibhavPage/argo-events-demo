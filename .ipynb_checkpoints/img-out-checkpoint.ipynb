{
 "cells": [
  {
   "cell_type": "code",
   "execution_count": 1,
   "metadata": {
    "papermill": {
     "duration": 0.01127,
     "end_time": "2020-03-18T00:10:33.611186",
     "exception": false,
     "start_time": "2020-03-18T00:10:33.599916",
     "status": "completed"
    },
    "tags": [
     "injected-parameters"
    ]
   },
   "outputs": [],
   "source": [
    "# Parameters\n",
    "filter_a = 25\n",
    "filter_b = 25\n"
   ]
  },
  {
   "cell_type": "code",
   "execution_count": 2,
   "metadata": {
    "papermill": {
     "duration": 0.01143,
     "end_time": "2020-03-18T00:10:33.626141",
     "exception": false,
     "start_time": "2020-03-18T00:10:33.614711",
     "status": "completed"
    },
    "tags": []
   },
   "outputs": [],
   "source": [
    "# Parameters\n",
    "\n",
    "filter_a = 5\n",
    "filter_b = 5\n",
    "s_vs_p = 0.5\n",
    "amount = 0.004\n"
   ]
  },
  {
   "cell_type": "code",
   "execution_count": 3,
   "metadata": {
    "papermill": {
     "duration": 1.600726,
     "end_time": "2020-03-18T00:10:35.233494",
     "exception": false,
     "start_time": "2020-03-18T00:10:33.632768",
     "status": "completed"
    },
    "tags": []
   },
   "outputs": [
    {
     "name": "stderr",
     "output_type": "stream",
     "text": [
      "/home/vaibhav/.local/lib/python3.6/site-packages/ipykernel_launcher.py:15: FutureWarning: Using a non-tuple sequence for multidimensional indexing is deprecated; use `arr[tuple(seq)]` instead of `arr[seq]`. In the future this will be interpreted as an array index, `arr[np.array(seq)]`, which will result either in an error or a different result.\n",
      "  from ipykernel import kernelapp as app\n",
      "/home/vaibhav/.local/lib/python3.6/site-packages/ipykernel_launcher.py:21: FutureWarning: Using a non-tuple sequence for multidimensional indexing is deprecated; use `arr[tuple(seq)]` instead of `arr[seq]`. In the future this will be interpreted as an array index, `arr[np.array(seq)]`, which will result either in an error or a different result.\n"
     ]
    },
    {
     "data": {
      "text/plain": [
       "True"
      ]
     },
     "execution_count": 3,
     "metadata": {},
     "output_type": "execute_result"
    }
   ],
   "source": [
    "import cv2\n",
    "import numpy\n",
    "\n",
    "src = cv2.imread('argo-logo.png')\n",
    " \n",
    "src = cv2.GaussianBlur(src,(filter_a,filter_b),cv2.BORDER_DEFAULT)\n",
    "\n",
    "s_vs_p = 0.7\n",
    "amount = 0.010\n",
    "out = numpy.copy(src)\n",
    "# Salt mode\n",
    "num_salt = numpy.ceil(amount * src.size * s_vs_p)\n",
    "coords = [numpy.random.randint(0, i - 1, int(num_salt))\n",
    "      for i in src.shape]\n",
    "out[coords] = 1\n",
    "\n",
    "# Pepper mode\n",
    "num_pepper = numpy.ceil(amount* src.size * (1. - s_vs_p))\n",
    "coords = [numpy.random.randint(0, i - 1, int(num_pepper))\n",
    "      for i in src.shape]\n",
    "out[coords] = 0\n",
    "\n",
    "dst = out\n",
    "\n",
    "cv2.imwrite('blur-argo-logo.png', dst)"
   ]
  }
 ],
 "metadata": {
  "kernelspec": {
   "display_name": "Python 3",
   "language": "python",
   "name": "python3"
  },
  "language_info": {
   "codemirror_mode": {
    "name": "ipython",
    "version": 3
   },
   "file_extension": ".py",
   "mimetype": "text/x-python",
   "name": "python",
   "nbconvert_exporter": "python",
   "pygments_lexer": "ipython3",
   "version": "3.6.9"
  },
  "papermill": {
   "duration": 2.832356,
   "end_time": "2020-03-18T00:10:35.241046",
   "environment_variables": {},
   "exception": null,
   "input_path": "noise.ipynb",
   "output_path": "img-out.ipynb",
   "parameters": {
    "filter_a": 25,
    "filter_b": 25
   },
   "start_time": "2020-03-18T00:10:32.408690",
   "version": "2.0.0"
  }
 },
 "nbformat": 4,
 "nbformat_minor": 4
}
